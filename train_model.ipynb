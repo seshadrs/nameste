{
   "cells":[
      {
         "cell_type":"code",
         "execution_count":3,
         "metadata":{
            "collapsed":true,
            "jupyter":{
               "outputs_hidden":true
            }
         },
         "outputs":[
            {
               "name":"stdout",
               "output_type":"stream",
               "text":[
                  "WARNING: pip is being invoked by an old script wrapper. This will fail in a future version of pip.\n",
                  "Please see https://github.com/pypa/pip/issues/5599 for advice on fixing the underlying issue.\n",
                  "To avoid this problem you can invoke Python with '-m pip' instead of running pip directly.\n",
                  "Requirement already satisfied: graphviz in /Library/Frameworks/Python.framework/Versions/3.7/lib/python3.7/site-packages (from -r requirements.txt (line 1)) (0.17)\n",
                  "Requirement already satisfied: joblib in /Library/Frameworks/Python.framework/Versions/3.7/lib/python3.7/site-packages (from -r requirements.txt (line 2)) (0.13.2)\n",
                  "Requirement already satisfied: keras in /Library/Frameworks/Python.framework/Versions/3.7/lib/python3.7/site-packages (from -r requirements.txt (line 3)) (2.4.3)\n",
                  "Requirement already satisfied: pandas in /Library/Frameworks/Python.framework/Versions/3.7/lib/python3.7/site-packages (from -r requirements.txt (line 4)) (1.1.0)\n",
                  "Requirement already satisfied: pydot in /Library/Frameworks/Python.framework/Versions/3.7/lib/python3.7/site-packages (from -r requirements.txt (line 5)) (1.4.2)\n",
                  "Requirement already satisfied: sklearn in /Library/Frameworks/Python.framework/Versions/3.7/lib/python3.7/site-packages (from -r requirements.txt (line 6)) (0.0)\n",
                  "Requirement already satisfied: streamlit in /Library/Frameworks/Python.framework/Versions/3.7/lib/python3.7/site-packages (from -r requirements.txt (line 7)) (0.86.0)\n",
                  "Requirement already satisfied: tensorflow in /Library/Frameworks/Python.framework/Versions/3.7/lib/python3.7/site-packages (from -r requirements.txt (line 8)) (2.5.0)\n",
                  "Collecting imblearn\n",
                  "  Downloading imblearn-0.0-py2.py3-none-any.whl (1.9 kB)\n",
                  "Requirement already satisfied: numpy>=1.9.1 in /Library/Frameworks/Python.framework/Versions/3.7/lib/python3.7/site-packages (from keras->-r requirements.txt (line 3)) (1.19.5)\n",
                  "Requirement already satisfied: pyyaml in /Library/Frameworks/Python.framework/Versions/3.7/lib/python3.7/site-packages (from keras->-r requirements.txt (line 3)) (5.4.1)\n",
                  "Requirement already satisfied: scipy>=0.14 in /Library/Frameworks/Python.framework/Versions/3.7/lib/python3.7/site-packages (from keras->-r requirements.txt (line 3)) (1.5.2)\n",
                  "Requirement already satisfied: h5py in /Library/Frameworks/Python.framework/Versions/3.7/lib/python3.7/site-packages (from keras->-r requirements.txt (line 3)) (3.1.0)\n",
                  "Requirement already satisfied: python-dateutil>=2.7.3 in /Library/Frameworks/Python.framework/Versions/3.7/lib/python3.7/site-packages (from pandas->-r requirements.txt (line 4)) (2.8.0)\n",
                  "Requirement already satisfied: pytz>=2017.2 in /Library/Frameworks/Python.framework/Versions/3.7/lib/python3.7/site-packages (from pandas->-r requirements.txt (line 4)) (2019.2)\n",
                  "Requirement already satisfied: pyparsing>=2.1.4 in /Library/Frameworks/Python.framework/Versions/3.7/lib/python3.7/site-packages (from pydot->-r requirements.txt (line 5)) (2.4.2)\n",
                  "Requirement already satisfied: scikit-learn in /Library/Frameworks/Python.framework/Versions/3.7/lib/python3.7/site-packages (from sklearn->-r requirements.txt (line 6)) (0.23.2)\n",
                  "Requirement already satisfied: click<8.0,>=7.0 in /Library/Frameworks/Python.framework/Versions/3.7/lib/python3.7/site-packages (from streamlit->-r requirements.txt (line 7)) (7.1.2)\n",
                  "Requirement already satisfied: cachetools>=4.0 in /Library/Frameworks/Python.framework/Versions/3.7/lib/python3.7/site-packages (from streamlit->-r requirements.txt (line 7)) (4.2.2)\n",
                  "Requirement already satisfied: tzlocal in /Library/Frameworks/Python.framework/Versions/3.7/lib/python3.7/site-packages (from streamlit->-r requirements.txt (line 7)) (2.1)\n",
                  "Requirement already satisfied: toml in /Library/Frameworks/Python.framework/Versions/3.7/lib/python3.7/site-packages (from streamlit->-r requirements.txt (line 7)) (0.10.2)\n",
                  "Requirement already satisfied: base58 in /Library/Frameworks/Python.framework/Versions/3.7/lib/python3.7/site-packages (from streamlit->-r requirements.txt (line 7)) (2.1.0)\n",
                  "Requirement already satisfied: pillow>=6.2.0 in /Library/Frameworks/Python.framework/Versions/3.7/lib/python3.7/site-packages (from streamlit->-r requirements.txt (line 7)) (7.2.0)\n",
                  "Requirement already satisfied: pydeck>=0.1.dev5 in /Library/Frameworks/Python.framework/Versions/3.7/lib/python3.7/site-packages (from streamlit->-r requirements.txt (line 7)) (0.6.2)\n",
                  "Requirement already satisfied: pyarrow in /Library/Frameworks/Python.framework/Versions/3.7/lib/python3.7/site-packages (from streamlit->-r requirements.txt (line 7)) (5.0.0)\n",
                  "Requirement already satisfied: packaging in /Library/Frameworks/Python.framework/Versions/3.7/lib/python3.7/site-packages (from streamlit->-r requirements.txt (line 7)) (20.4)\n",
                  "Requirement already satisfied: requests in /Library/Frameworks/Python.framework/Versions/3.7/lib/python3.7/site-packages (from streamlit->-r requirements.txt (line 7)) (2.22.0)\n",
                  "Requirement already satisfied: astor in /Library/Frameworks/Python.framework/Versions/3.7/lib/python3.7/site-packages (from streamlit->-r requirements.txt (line 7)) (0.8.1)\n",
                  "Requirement already satisfied: validators in /Library/Frameworks/Python.framework/Versions/3.7/lib/python3.7/site-packages (from streamlit->-r requirements.txt (line 7)) (0.18.2)\n",
                  "Requirement already satisfied: protobuf!=3.11,>=3.6.0 in /Library/Frameworks/Python.framework/Versions/3.7/lib/python3.7/site-packages (from streamlit->-r requirements.txt (line 7)) (3.17.3)\n",
                  "Requirement already satisfied: gitpython!=3.1.19 in /Library/Frameworks/Python.framework/Versions/3.7/lib/python3.7/site-packages (from streamlit->-r requirements.txt (line 7)) (3.1.18)\n",
                  "Requirement already satisfied: altair>=3.2.0 in /Library/Frameworks/Python.framework/Versions/3.7/lib/python3.7/site-packages (from streamlit->-r requirements.txt (line 7)) (4.1.0)\n",
                  "Requirement already satisfied: tornado>=5.0 in /Library/Frameworks/Python.framework/Versions/3.7/lib/python3.7/site-packages (from streamlit->-r requirements.txt (line 7)) (6.0.3)\n",
                  "Requirement already satisfied: attrs in /Library/Frameworks/Python.framework/Versions/3.7/lib/python3.7/site-packages (from streamlit->-r requirements.txt (line 7)) (19.3.0)\n",
                  "Requirement already satisfied: blinker in /Library/Frameworks/Python.framework/Versions/3.7/lib/python3.7/site-packages (from streamlit->-r requirements.txt (line 7)) (1.4)\n",
                  "Requirement already satisfied: wrapt~=1.12.1 in /Library/Frameworks/Python.framework/Versions/3.7/lib/python3.7/site-packages (from tensorflow->-r requirements.txt (line 8)) (1.12.1)\n",
                  "Requirement already satisfied: opt-einsum~=3.3.0 in /Library/Frameworks/Python.framework/Versions/3.7/lib/python3.7/site-packages (from tensorflow->-r requirements.txt (line 8)) (3.3.0)\n",
                  "Requirement already satisfied: tensorflow-estimator<2.6.0,>=2.5.0rc0 in /Library/Frameworks/Python.framework/Versions/3.7/lib/python3.7/site-packages (from tensorflow->-r requirements.txt (line 8)) (2.5.0)\n",
                  "Requirement already satisfied: keras-nightly~=2.5.0.dev in /Library/Frameworks/Python.framework/Versions/3.7/lib/python3.7/site-packages (from tensorflow->-r requirements.txt (line 8)) (2.5.0.dev2021032900)\n",
                  "Requirement already satisfied: typing-extensions~=3.7.4 in /Library/Frameworks/Python.framework/Versions/3.7/lib/python3.7/site-packages (from tensorflow->-r requirements.txt (line 8)) (3.7.4.3)\n",
                  "Requirement already satisfied: google-pasta~=0.2 in /Library/Frameworks/Python.framework/Versions/3.7/lib/python3.7/site-packages (from tensorflow->-r requirements.txt (line 8)) (0.2.0)\n",
                  "Requirement already satisfied: absl-py~=0.10 in /Library/Frameworks/Python.framework/Versions/3.7/lib/python3.7/site-packages (from tensorflow->-r requirements.txt (line 8)) (0.13.0)\n",
                  "Requirement already satisfied: astunparse~=1.6.3 in /Library/Frameworks/Python.framework/Versions/3.7/lib/python3.7/site-packages (from tensorflow->-r requirements.txt (line 8)) (1.6.3)\n",
                  "Requirement already satisfied: tensorboard~=2.5 in /Library/Frameworks/Python.framework/Versions/3.7/lib/python3.7/site-packages (from tensorflow->-r requirements.txt (line 8)) (2.5.0)\n",
                  "Requirement already satisfied: keras-preprocessing~=1.1.2 in /Library/Frameworks/Python.framework/Versions/3.7/lib/python3.7/site-packages (from tensorflow->-r requirements.txt (line 8)) (1.1.2)\n",
                  "Requirement already satisfied: termcolor~=1.1.0 in /Library/Frameworks/Python.framework/Versions/3.7/lib/python3.7/site-packages (from tensorflow->-r requirements.txt (line 8)) (1.1.0)\n",
                  "Requirement already satisfied: wheel~=0.35 in /Library/Frameworks/Python.framework/Versions/3.7/lib/python3.7/site-packages (from tensorflow->-r requirements.txt (line 8)) (0.36.2)\n",
                  "Requirement already satisfied: flatbuffers~=1.12.0 in /Library/Frameworks/Python.framework/Versions/3.7/lib/python3.7/site-packages (from tensorflow->-r requirements.txt (line 8)) (1.12)\n",
                  "Requirement already satisfied: grpcio~=1.34.0 in /Library/Frameworks/Python.framework/Versions/3.7/lib/python3.7/site-packages (from tensorflow->-r requirements.txt (line 8)) (1.34.1)\n",
                  "Requirement already satisfied: gast==0.4.0 in /Library/Frameworks/Python.framework/Versions/3.7/lib/python3.7/site-packages (from tensorflow->-r requirements.txt (line 8)) (0.4.0)\n",
                  "Requirement already satisfied: six~=1.15.0 in /Library/Frameworks/Python.framework/Versions/3.7/lib/python3.7/site-packages (from tensorflow->-r requirements.txt (line 8)) (1.15.0)\n",
                  "Collecting imbalanced-learn\n",
                  "  Downloading imbalanced_learn-0.8.0-py3-none-any.whl (206 kB)\n",
                  "\u001b[K  |████████████████████████████████| 206 kB 1.1 MB/s \n",
                  "\u001b[?25hRequirement already satisfied: cached-property; python_version < \"3.8\" in /Library/Frameworks/Python.framework/Versions/3.7/lib/python3.7/site-packages (from h5py->keras->-r requirements.txt (line 3)) (1.5.2)\n",
                  "Requirement already satisfied: threadpoolctl>=2.0.0 in /Library/Frameworks/Python.framework/Versions/3.7/lib/python3.7/site-packages (from scikit-learn->sklearn->-r requirements.txt (line 6)) (2.1.0)\n",
                  "Requirement already satisfied: ipykernel>=5.1.2; python_version >= \"3.4\" in /Library/Frameworks/Python.framework/Versions/3.7/lib/python3.7/site-packages (from pydeck>=0.1.dev5->streamlit->-r requirements.txt (line 7)) (5.1.2)\n",
                  "Requirement already satisfied: traitlets>=4.3.2 in /Library/Frameworks/Python.framework/Versions/3.7/lib/python3.7/site-packages (from pydeck>=0.1.dev5->streamlit->-r requirements.txt (line 7)) (4.3.2)\n",
                  "Requirement already satisfied: ipywidgets>=7.0.0 in /Library/Frameworks/Python.framework/Versions/3.7/lib/python3.7/site-packages (from pydeck>=0.1.dev5->streamlit->-r requirements.txt (line 7)) (7.5.1)\n",
                  "Requirement already satisfied: jinja2>=2.10.1 in /Library/Frameworks/Python.framework/Versions/3.7/lib/python3.7/site-packages (from pydeck>=0.1.dev5->streamlit->-r requirements.txt (line 7)) (2.11.2)\n",
                  "Requirement already satisfied: chardet<3.1.0,>=3.0.2 in /Library/Frameworks/Python.framework/Versions/3.7/lib/python3.7/site-packages (from requests->streamlit->-r requirements.txt (line 7)) (3.0.4)\n",
                  "Requirement already satisfied: certifi>=2017.4.17 in /Library/Frameworks/Python.framework/Versions/3.7/lib/python3.7/site-packages (from requests->streamlit->-r requirements.txt (line 7)) (2019.6.16)\n",
                  "Requirement already satisfied: idna<2.9,>=2.5 in /Library/Frameworks/Python.framework/Versions/3.7/lib/python3.7/site-packages (from requests->streamlit->-r requirements.txt (line 7)) (2.8)\n",
                  "Requirement already satisfied: urllib3!=1.25.0,!=1.25.1,<1.26,>=1.21.1 in /Library/Frameworks/Python.framework/Versions/3.7/lib/python3.7/site-packages (from requests->streamlit->-r requirements.txt (line 7)) (1.25.3)\n",
                  "Requirement already satisfied: decorator>=3.4.0 in /Library/Frameworks/Python.framework/Versions/3.7/lib/python3.7/site-packages (from validators->streamlit->-r requirements.txt (line 7)) (4.4.0)\n",
                  "Requirement already satisfied: gitdb<5,>=4.0.1 in /Library/Frameworks/Python.framework/Versions/3.7/lib/python3.7/site-packages (from gitpython!=3.1.19->streamlit->-r requirements.txt (line 7)) (4.0.7)\n",
                  "Requirement already satisfied: toolz in /Library/Frameworks/Python.framework/Versions/3.7/lib/python3.7/site-packages (from altair>=3.2.0->streamlit->-r requirements.txt (line 7)) (0.11.1)\n",
                  "Requirement already satisfied: entrypoints in /Library/Frameworks/Python.framework/Versions/3.7/lib/python3.7/site-packages (from altair>=3.2.0->streamlit->-r requirements.txt (line 7)) (0.3)\n",
                  "Requirement already satisfied: jsonschema in /Library/Frameworks/Python.framework/Versions/3.7/lib/python3.7/site-packages (from altair>=3.2.0->streamlit->-r requirements.txt (line 7)) (3.2.0)\n",
                  "Requirement already satisfied: google-auth<2,>=1.6.3 in /Library/Frameworks/Python.framework/Versions/3.7/lib/python3.7/site-packages (from tensorboard~=2.5->tensorflow->-r requirements.txt (line 8)) (1.34.0)\n",
                  "Requirement already satisfied: tensorboard-plugin-wit>=1.6.0 in /Library/Frameworks/Python.framework/Versions/3.7/lib/python3.7/site-packages (from tensorboard~=2.5->tensorflow->-r requirements.txt (line 8)) (1.8.0)\n",
                  "Requirement already satisfied: werkzeug>=0.11.15 in /Library/Frameworks/Python.framework/Versions/3.7/lib/python3.7/site-packages (from tensorboard~=2.5->tensorflow->-r requirements.txt (line 8)) (2.0.1)\n",
                  "Requirement already satisfied: tensorboard-data-server<0.7.0,>=0.6.0 in /Library/Frameworks/Python.framework/Versions/3.7/lib/python3.7/site-packages (from tensorboard~=2.5->tensorflow->-r requirements.txt (line 8)) (0.6.1)\n",
                  "Requirement already satisfied: google-auth-oauthlib<0.5,>=0.4.1 in /Library/Frameworks/Python.framework/Versions/3.7/lib/python3.7/site-packages (from tensorboard~=2.5->tensorflow->-r requirements.txt (line 8)) (0.4.5)\n",
                  "Requirement already satisfied: markdown>=2.6.8 in /Library/Frameworks/Python.framework/Versions/3.7/lib/python3.7/site-packages (from tensorboard~=2.5->tensorflow->-r requirements.txt (line 8)) (3.3.4)\n",
                  "Requirement already satisfied: setuptools>=41.0.0 in /Library/Frameworks/Python.framework/Versions/3.7/lib/python3.7/site-packages (from tensorboard~=2.5->tensorflow->-r requirements.txt (line 8)) (57.4.0)\n",
                  "Requirement already satisfied: jupyter-client in /Library/Frameworks/Python.framework/Versions/3.7/lib/python3.7/site-packages (from ipykernel>=5.1.2; python_version >= \"3.4\"->pydeck>=0.1.dev5->streamlit->-r requirements.txt (line 7)) (5.3.1)\n",
                  "Requirement already satisfied: ipython>=5.0.0 in /Library/Frameworks/Python.framework/Versions/3.7/lib/python3.7/site-packages (from ipykernel>=5.1.2; python_version >= \"3.4\"->pydeck>=0.1.dev5->streamlit->-r requirements.txt (line 7)) (7.7.0)\n",
                  "Requirement already satisfied: ipython-genutils in /Library/Frameworks/Python.framework/Versions/3.7/lib/python3.7/site-packages (from traitlets>=4.3.2->pydeck>=0.1.dev5->streamlit->-r requirements.txt (line 7)) (0.2.0)\n",
                  "Requirement already satisfied: nbformat>=4.2.0 in /Library/Frameworks/Python.framework/Versions/3.7/lib/python3.7/site-packages (from ipywidgets>=7.0.0->pydeck>=0.1.dev5->streamlit->-r requirements.txt (line 7)) (5.0.7)\n",
                  "Requirement already satisfied: widgetsnbextension~=3.5.0 in /Library/Frameworks/Python.framework/Versions/3.7/lib/python3.7/site-packages (from ipywidgets>=7.0.0->pydeck>=0.1.dev5->streamlit->-r requirements.txt (line 7)) (3.5.1)\n",
                  "Requirement already satisfied: MarkupSafe>=0.23 in /Library/Frameworks/Python.framework/Versions/3.7/lib/python3.7/site-packages (from jinja2>=2.10.1->pydeck>=0.1.dev5->streamlit->-r requirements.txt (line 7)) (1.1.1)\n",
                  "Requirement already satisfied: smmap<5,>=3.0.1 in /Library/Frameworks/Python.framework/Versions/3.7/lib/python3.7/site-packages (from gitdb<5,>=4.0.1->gitpython!=3.1.19->streamlit->-r requirements.txt (line 7)) (4.0.0)\n",
                  "Requirement already satisfied: importlib-metadata; python_version < \"3.8\" in /Users/sesh/Library/Python/3.7/lib/python/site-packages (from jsonschema->altair>=3.2.0->streamlit->-r requirements.txt (line 7)) (1.7.0)\n",
                  "Requirement already satisfied: pyrsistent>=0.14.0 in /Library/Frameworks/Python.framework/Versions/3.7/lib/python3.7/site-packages (from jsonschema->altair>=3.2.0->streamlit->-r requirements.txt (line 7)) (0.16.0)\n",
                  "Requirement already satisfied: rsa<5,>=3.1.4; python_version >= \"3.6\" in /Library/Frameworks/Python.framework/Versions/3.7/lib/python3.7/site-packages (from google-auth<2,>=1.6.3->tensorboard~=2.5->tensorflow->-r requirements.txt (line 8)) (4.7.2)\n",
                  "Requirement already satisfied: pyasn1-modules>=0.2.1 in /Library/Frameworks/Python.framework/Versions/3.7/lib/python3.7/site-packages (from google-auth<2,>=1.6.3->tensorboard~=2.5->tensorflow->-r requirements.txt (line 8)) (0.2.8)\n",
                  "Requirement already satisfied: requests-oauthlib>=0.7.0 in /Library/Frameworks/Python.framework/Versions/3.7/lib/python3.7/site-packages (from google-auth-oauthlib<0.5,>=0.4.1->tensorboard~=2.5->tensorflow->-r requirements.txt (line 8)) (1.3.0)\n",
                  "Requirement already satisfied: pyzmq>=13 in /Library/Frameworks/Python.framework/Versions/3.7/lib/python3.7/site-packages (from jupyter-client->ipykernel>=5.1.2; python_version >= \"3.4\"->pydeck>=0.1.dev5->streamlit->-r requirements.txt (line 7)) (18.1.0)\n",
                  "Requirement already satisfied: jupyter-core in /Library/Frameworks/Python.framework/Versions/3.7/lib/python3.7/site-packages (from jupyter-client->ipykernel>=5.1.2; python_version >= \"3.4\"->pydeck>=0.1.dev5->streamlit->-r requirements.txt (line 7)) (4.6.3)\n",
                  "Requirement already satisfied: pexpect; sys_platform != \"win32\" in /Library/Frameworks/Python.framework/Versions/3.7/lib/python3.7/site-packages (from ipython>=5.0.0->ipykernel>=5.1.2; python_version >= \"3.4\"->pydeck>=0.1.dev5->streamlit->-r requirements.txt (line 7)) (4.7.0)\n",
                  "Requirement already satisfied: prompt-toolkit<2.1.0,>=2.0.0 in /Library/Frameworks/Python.framework/Versions/3.7/lib/python3.7/site-packages (from ipython>=5.0.0->ipykernel>=5.1.2; python_version >= \"3.4\"->pydeck>=0.1.dev5->streamlit->-r requirements.txt (line 7)) (2.0.9)\n",
                  "Requirement already satisfied: appnope; sys_platform == \"darwin\" in /Library/Frameworks/Python.framework/Versions/3.7/lib/python3.7/site-packages (from ipython>=5.0.0->ipykernel>=5.1.2; python_version >= \"3.4\"->pydeck>=0.1.dev5->streamlit->-r requirements.txt (line 7)) (0.1.0)\n",
                  "Requirement already satisfied: pygments in /Library/Frameworks/Python.framework/Versions/3.7/lib/python3.7/site-packages (from ipython>=5.0.0->ipykernel>=5.1.2; python_version >= \"3.4\"->pydeck>=0.1.dev5->streamlit->-r requirements.txt (line 7)) (2.4.2)\n",
                  "Requirement already satisfied: jedi>=0.10 in /Library/Frameworks/Python.framework/Versions/3.7/lib/python3.7/site-packages (from ipython>=5.0.0->ipykernel>=5.1.2; python_version >= \"3.4\"->pydeck>=0.1.dev5->streamlit->-r requirements.txt (line 7)) (0.15.1)\n",
                  "Requirement already satisfied: pickleshare in /Library/Frameworks/Python.framework/Versions/3.7/lib/python3.7/site-packages (from ipython>=5.0.0->ipykernel>=5.1.2; python_version >= \"3.4\"->pydeck>=0.1.dev5->streamlit->-r requirements.txt (line 7)) (0.7.5)\n",
                  "Requirement already satisfied: backcall in /Library/Frameworks/Python.framework/Versions/3.7/lib/python3.7/site-packages (from ipython>=5.0.0->ipykernel>=5.1.2; python_version >= \"3.4\"->pydeck>=0.1.dev5->streamlit->-r requirements.txt (line 7)) (0.1.0)\n",
                  "Requirement already satisfied: notebook>=4.4.1 in /Library/Frameworks/Python.framework/Versions/3.7/lib/python3.7/site-packages (from widgetsnbextension~=3.5.0->ipywidgets>=7.0.0->pydeck>=0.1.dev5->streamlit->-r requirements.txt (line 7)) (6.1.1)\n",
                  "Requirement already satisfied: zipp>=0.5 in /Users/sesh/Library/Python/3.7/lib/python/site-packages (from importlib-metadata; python_version < \"3.8\"->jsonschema->altair>=3.2.0->streamlit->-r requirements.txt (line 7)) (3.1.0)\n",
                  "Requirement already satisfied: pyasn1>=0.1.3 in /Library/Frameworks/Python.framework/Versions/3.7/lib/python3.7/site-packages (from rsa<5,>=3.1.4; python_version >= \"3.6\"->google-auth<2,>=1.6.3->tensorboard~=2.5->tensorflow->-r requirements.txt (line 8)) (0.4.8)\n",
                  "Requirement already satisfied: oauthlib>=3.0.0 in /Library/Frameworks/Python.framework/Versions/3.7/lib/python3.7/site-packages (from requests-oauthlib>=0.7.0->google-auth-oauthlib<0.5,>=0.4.1->tensorboard~=2.5->tensorflow->-r requirements.txt (line 8)) (3.1.1)\n",
                  "Requirement already satisfied: ptyprocess>=0.5 in /Library/Frameworks/Python.framework/Versions/3.7/lib/python3.7/site-packages (from pexpect; sys_platform != \"win32\"->ipython>=5.0.0->ipykernel>=5.1.2; python_version >= \"3.4\"->pydeck>=0.1.dev5->streamlit->-r requirements.txt (line 7)) (0.6.0)\n",
                  "Requirement already satisfied: wcwidth in /Library/Frameworks/Python.framework/Versions/3.7/lib/python3.7/site-packages (from prompt-toolkit<2.1.0,>=2.0.0->ipython>=5.0.0->ipykernel>=5.1.2; python_version >= \"3.4\"->pydeck>=0.1.dev5->streamlit->-r requirements.txt (line 7)) (0.1.7)\n",
                  "Requirement already satisfied: parso>=0.5.0 in /Library/Frameworks/Python.framework/Versions/3.7/lib/python3.7/site-packages (from jedi>=0.10->ipython>=5.0.0->ipykernel>=5.1.2; python_version >= \"3.4\"->pydeck>=0.1.dev5->streamlit->-r requirements.txt (line 7)) (0.5.1)\n",
                  "Requirement already satisfied: Send2Trash in /Library/Frameworks/Python.framework/Versions/3.7/lib/python3.7/site-packages (from notebook>=4.4.1->widgetsnbextension~=3.5.0->ipywidgets>=7.0.0->pydeck>=0.1.dev5->streamlit->-r requirements.txt (line 7)) (1.5.0)\n",
                  "Requirement already satisfied: argon2-cffi in /Library/Frameworks/Python.framework/Versions/3.7/lib/python3.7/site-packages (from notebook>=4.4.1->widgetsnbextension~=3.5.0->ipywidgets>=7.0.0->pydeck>=0.1.dev5->streamlit->-r requirements.txt (line 7)) (20.1.0)\n",
                  "Requirement already satisfied: prometheus-client in /Library/Frameworks/Python.framework/Versions/3.7/lib/python3.7/site-packages (from notebook>=4.4.1->widgetsnbextension~=3.5.0->ipywidgets>=7.0.0->pydeck>=0.1.dev5->streamlit->-r requirements.txt (line 7)) (0.8.0)\n",
                  "Requirement already satisfied: terminado>=0.8.3 in /Library/Frameworks/Python.framework/Versions/3.7/lib/python3.7/site-packages (from notebook>=4.4.1->widgetsnbextension~=3.5.0->ipywidgets>=7.0.0->pydeck>=0.1.dev5->streamlit->-r requirements.txt (line 7)) (0.8.3)\n",
                  "Requirement already satisfied: nbconvert in /Library/Frameworks/Python.framework/Versions/3.7/lib/python3.7/site-packages (from notebook>=4.4.1->widgetsnbextension~=3.5.0->ipywidgets>=7.0.0->pydeck>=0.1.dev5->streamlit->-r requirements.txt (line 7)) (5.6.1)\n",
                  "Requirement already satisfied: cffi>=1.0.0 in /Library/Frameworks/Python.framework/Versions/3.7/lib/python3.7/site-packages (from argon2-cffi->notebook>=4.4.1->widgetsnbextension~=3.5.0->ipywidgets>=7.0.0->pydeck>=0.1.dev5->streamlit->-r requirements.txt (line 7)) (1.14.1)\n",
                  "Requirement already satisfied: defusedxml in /Library/Frameworks/Python.framework/Versions/3.7/lib/python3.7/site-packages (from nbconvert->notebook>=4.4.1->widgetsnbextension~=3.5.0->ipywidgets>=7.0.0->pydeck>=0.1.dev5->streamlit->-r requirements.txt (line 7)) (0.6.0)\n",
                  "Requirement already satisfied: bleach in /Library/Frameworks/Python.framework/Versions/3.7/lib/python3.7/site-packages (from nbconvert->notebook>=4.4.1->widgetsnbextension~=3.5.0->ipywidgets>=7.0.0->pydeck>=0.1.dev5->streamlit->-r requirements.txt (line 7)) (3.1.5)\n",
                  "Requirement already satisfied: pandocfilters>=1.4.1 in /Library/Frameworks/Python.framework/Versions/3.7/lib/python3.7/site-packages (from nbconvert->notebook>=4.4.1->widgetsnbextension~=3.5.0->ipywidgets>=7.0.0->pydeck>=0.1.dev5->streamlit->-r requirements.txt (line 7)) (1.4.2)\n",
                  "Requirement already satisfied: testpath in /Library/Frameworks/Python.framework/Versions/3.7/lib/python3.7/site-packages (from nbconvert->notebook>=4.4.1->widgetsnbextension~=3.5.0->ipywidgets>=7.0.0->pydeck>=0.1.dev5->streamlit->-r requirements.txt (line 7)) (0.4.4)\n",
                  "Requirement already satisfied: mistune<2,>=0.8.1 in /Library/Frameworks/Python.framework/Versions/3.7/lib/python3.7/site-packages (from nbconvert->notebook>=4.4.1->widgetsnbextension~=3.5.0->ipywidgets>=7.0.0->pydeck>=0.1.dev5->streamlit->-r requirements.txt (line 7)) (0.8.4)\n",
                  "Requirement already satisfied: pycparser in /Library/Frameworks/Python.framework/Versions/3.7/lib/python3.7/site-packages (from cffi>=1.0.0->argon2-cffi->notebook>=4.4.1->widgetsnbextension~=3.5.0->ipywidgets>=7.0.0->pydeck>=0.1.dev5->streamlit->-r requirements.txt (line 7)) (2.20)\n",
                  "Requirement already satisfied: webencodings in /Library/Frameworks/Python.framework/Versions/3.7/lib/python3.7/site-packages (from bleach->nbconvert->notebook>=4.4.1->widgetsnbextension~=3.5.0->ipywidgets>=7.0.0->pydeck>=0.1.dev5->streamlit->-r requirements.txt (line 7)) (0.5.1)\n",
                  "Installing collected packages: imbalanced-learn, imblearn\n",
                  "\u001b[31mERROR: After October 2020 you may experience errors when installing or updating packages. This is because pip will change the way that it resolves dependency conflicts.\n",
                  "\n",
                  "We recommend you use --use-feature=2020-resolver to test your packages with the new resolver before it becomes the default.\n",
                  "\n",
                  "imbalanced-learn 0.8.0 requires scikit-learn>=0.24, but you'll have scikit-learn 0.23.2 which is incompatible.\u001b[0m\n",
                  "Successfully installed imbalanced-learn-0.8.0 imblearn-0.0\n",
                  "\u001b[33mWARNING: You are using pip version 20.2.1; however, version 21.2.4 is available.\n",
                  "You should consider upgrading via the '/Library/Frameworks/Python.framework/Versions/3.7/bin/python3.7 -m pip install --upgrade pip' command.\u001b[0m\n"
               ]
            }
         ],
         "source":[
            "!pip3 install -r requirements.txt"
         ]
      },
      {
         "cell_type":"code",
         "execution_count":5,
         "metadata":{
            
         },
         "outputs":[
            {
               "name":"stdout",
               "output_type":"stream",
               "text":[
                  "  % Total % Received % Xferd  Average Speed   Time Time  Time  Current\n",
                  "         Dload  Upload   Total   Spent Left  Speed\n",
                  "100 19.5M  100 19.5M 0  0  1902k   0  0:00:10  0:00:10 --:--:-- 2533k\n"
               ]
            }
         ],
         "source":[
            "# DOWNLOAD WORLD GENDER NAME DICTIONARY DATASET \n",
            "# https://dataverse.harvard.edu/dataset.xhtml?persistentId=doi:10.7910/DVN/YPRQH8\n",
            "\n",
            "!curl https://dataverse.harvard.edu/api/access/datafile/:persistentId?persistentId=doi:10.7910/DVN/YPRQH8/SO6SXA -o wgnd_source.tab"
         ]
      },
      {
         "cell_type":"code",
         "execution_count":99,
         "metadata":{
            
         },
         "outputs":[
            {
               "name":"stderr",
               "output_type":"stream",
               "text":[
                  "/Library/Frameworks/Python.framework/Versions/3.7/lib/python3.7/site-packages/IPython/core/interactiveshell.py:3058: DtypeWarning: Columns (8,15,16,17,18,19) have mixed types.Specify dtype option on import or set low_memory=False.\n",
                  "  interactivity=interactivity, compiler=compiler, result=result)\n"
               ]
            },
            {
               "data":{
                  "text/html":[
                     "<div>\n",
                     "<style scoped>\n",
                     " .dataframe tbody tr th:only-of-type {\n",
                     "  vertical-align: middle;\n",
                     " }\n",
                     "\n",
                     " .dataframe tbody tr th {\n",
                     "  vertical-align: top;\n",
                     " }\n",
                     "\n",
                     " .dataframe thead th {\n",
                     "  text-align: right;\n",
                     " }\n",
                     "</style>\n",
                     "<table border=\"1\" class=\"dataframe\">\n",
                     "  <thead>\n",
                     " <tr style=\"text-align: right;\">\n",
                     "   <th></th>\n",
                     "   <th>name</th>\n",
                     "   <th>code</th>\n",
                     "   <th>gender</th>\n",
                     "   <th>src_Albertagvt</th>\n",
                     "   <th>src_FB</th>\n",
                     "   <th>src_INE</th>\n",
                     "   <th>src_INSEE</th>\n",
                     "   <th>src_MichaelJ</th>\n",
                     "   <th>src_Statistics_Denmark</th>\n",
                     "   <th>src_UK_National_St</th>\n",
                     "   <th>src_US_Census</th>\n",
                     "   <th>src_US_SSA</th>\n",
                     "   <th>src_WIPO</th>\n",
                     "   <th>src_WIPO_manual</th>\n",
                     "   <th>src_Wikipedia</th>\n",
                     "   <th>src_Yu_et_al</th>\n",
                     "   <th>src_statsweden</th>\n",
                     "   <th>gchar12</th>\n",
                     "   <th>gchar1</th>\n",
                     "   <th>gchar2</th>\n",
                     " </tr>\n",
                     "  </thead>\n",
                     "  <tbody>\n",
                     " <tr>\n",
                     "   <th>0</th>\n",
                     "   <td>A HANNAN</td>\n",
                     "   <td>CA</td>\n",
                     "   <td>M</td>\n",
                     "   <td>M</td>\n",
                     "   <td>NaN</td>\n",
                     "   <td>NaN</td>\n",
                     "   <td>NaN</td>\n",
                     "   <td>NaN</td>\n",
                     "   <td>NaN</td>\n",
                     "   <td>NaN</td>\n",
                     "   <td>NaN</td>\n",
                     "   <td>NaN</td>\n",
                     "   <td>NaN</td>\n",
                     "   <td>NaN</td>\n",
                     "   <td>NaN</td>\n",
                     "   <td>NaN</td>\n",
                     "   <td>NaN</td>\n",
                     "   <td>NaN</td>\n",
                     "   <td>NaN</td>\n",
                     "   <td>NaN</td>\n",
                     " </tr>\n",
                     " <tr>\n",
                     "   <th>1</th>\n",
                     "   <td>A JAY</td>\n",
                     "   <td>CA</td>\n",
                     "   <td>M</td>\n",
                     "   <td>M</td>\n",
                     "   <td>NaN</td>\n",
                     "   <td>NaN</td>\n",
                     "   <td>NaN</td>\n",
                     "   <td>NaN</td>\n",
                     "   <td>NaN</td>\n",
                     "   <td>NaN</td>\n",
                     "   <td>NaN</td>\n",
                     "   <td>NaN</td>\n",
                     "   <td>NaN</td>\n",
                     "   <td>NaN</td>\n",
                     "   <td>NaN</td>\n",
                     "   <td>NaN</td>\n",
                     "   <td>NaN</td>\n",
                     "   <td>NaN</td>\n",
                     "   <td>NaN</td>\n",
                     "   <td>NaN</td>\n",
                     " </tr>\n",
                     " <tr>\n",
                     "   <th>2</th>\n",
                     "   <td>A JAY</td>\n",
                     "   <td>GB</td>\n",
                     "   <td>M</td>\n",
                     "   <td>NaN</td>\n",
                     "   <td>NaN</td>\n",
                     "   <td>NaN</td>\n",
                     "   <td>NaN</td>\n",
                     "   <td>NaN</td>\n",
                     "   <td>NaN</td>\n",
                     "   <td>M</td>\n",
                     "   <td>NaN</td>\n",
                     "   <td>NaN</td>\n",
                     "   <td>NaN</td>\n",
                     "   <td>NaN</td>\n",
                     "   <td>NaN</td>\n",
                     "   <td>NaN</td>\n",
                     "   <td>NaN</td>\n",
                     "   <td>NaN</td>\n",
                     "   <td>NaN</td>\n",
                     "   <td>NaN</td>\n",
                     " </tr>\n",
                     " <tr>\n",
                     "   <th>3</th>\n",
                     "   <td>A K I L</td>\n",
                     "   <td>CA</td>\n",
                     "   <td>M</td>\n",
                     "   <td>M</td>\n",
                     "   <td>NaN</td>\n",
                     "   <td>NaN</td>\n",
                     "   <td>NaN</td>\n",
                     "   <td>NaN</td>\n",
                     "   <td>NaN</td>\n",
                     "   <td>NaN</td>\n",
                     "   <td>NaN</td>\n",
                     "   <td>NaN</td>\n",
                     "   <td>NaN</td>\n",
                     "   <td>NaN</td>\n",
                     "   <td>NaN</td>\n",
                     "   <td>NaN</td>\n",
                     "   <td>NaN</td>\n",
                     "   <td>NaN</td>\n",
                     "   <td>NaN</td>\n",
                     "   <td>NaN</td>\n",
                     " </tr>\n",
                     " <tr>\n",
                     "   <th>4</th>\n",
                     "   <td>A LAH</td>\n",
                     "   <td>CA</td>\n",
                     "   <td>F</td>\n",
                     "   <td>F</td>\n",
                     "   <td>NaN</td>\n",
                     "   <td>NaN</td>\n",
                     "   <td>NaN</td>\n",
                     "   <td>NaN</td>\n",
                     "   <td>NaN</td>\n",
                     "   <td>NaN</td>\n",
                     "   <td>NaN</td>\n",
                     "   <td>NaN</td>\n",
                     "   <td>NaN</td>\n",
                     "   <td>NaN</td>\n",
                     "   <td>NaN</td>\n",
                     "   <td>NaN</td>\n",
                     "   <td>NaN</td>\n",
                     "   <td>NaN</td>\n",
                     "   <td>NaN</td>\n",
                     "   <td>NaN</td>\n",
                     " </tr>\n",
                     "  </tbody>\n",
                     "</table>\n",
                     "</div>"
                  ],
                  "text/plain":[
                     "    name code gender src_Albertagvt src_FB src_INE src_INSEE src_MichaelJ  \\\n",
                     "0  A HANNAN   CA   M     M NaN  NaN    NaN    NaN   \n",
                     "1  A JAY   CA   M     M NaN  NaN    NaN    NaN   \n",
                     "2  A JAY   GB   M   NaN NaN  NaN    NaN    NaN   \n",
                     "3   A K I L   CA   M     M NaN  NaN    NaN    NaN   \n",
                     "4  A LAH   CA   F     F NaN  NaN    NaN    NaN   \n",
                     "\n",
                     "  src_Statistics_Denmark src_UK_National_St src_US_Census src_US_SSA src_WIPO  \\\n",
                     "0     NaN    NaN     NaN  NaN   NaN   \n",
                     "1     NaN    NaN     NaN  NaN   NaN   \n",
                     "2     NaN      M     NaN  NaN   NaN   \n",
                     "3     NaN    NaN     NaN  NaN   NaN   \n",
                     "4     NaN    NaN     NaN  NaN   NaN   \n",
                     "\n",
                     "  src_WIPO_manual src_Wikipedia src_Yu_et_al src_statsweden gchar12 gchar1  \\\n",
                     "0    NaN     NaN    NaN   NaN  NaN NaN   \n",
                     "1    NaN     NaN    NaN   NaN  NaN NaN   \n",
                     "2    NaN     NaN    NaN   NaN  NaN NaN   \n",
                     "3    NaN     NaN    NaN   NaN  NaN NaN   \n",
                     "4    NaN     NaN    NaN   NaN  NaN NaN   \n",
                     "\n",
                     "  gchar2  \n",
                     "0 NaN  \n",
                     "1 NaN  \n",
                     "2 NaN  \n",
                     "3 NaN  \n",
                     "4 NaN  "
                  ]
               },
               "execution_count":99,
               "metadata":{
                  
               },
               "output_type":"execute_result"
            }
         ],
         "source":[
            "# LOAD TRAIN DATA\n",
            "# NOTE: some names have a first and second name. Majority are only the firstname.\n",
            "\n",
            "import pandas as pd\n",
            "names_df = pd.read_csv('wgnd_source.tab', sep='\\t')\n",
            "names_df.head()"
         ]
      },
      {
         "cell_type":"code",
         "execution_count":100,
         "metadata":{
            
         },
         "outputs":[
            {
               "name":"stdout",
               "output_type":"stream",
               "text":[
                  "Number of <name, country_code> datapoints=276117\n",
                  "\n"
               ]
            },
            {
               "data":{
                  "text/plain":[
                     "'Random sample of data:'"
                  ]
               },
               "metadata":{
                  
               },
               "output_type":"display_data"
            },
            {
               "data":{
                  "text/html":[
                     "<div>\n",
                     "<style scoped>\n",
                     " .dataframe tbody tr th:only-of-type {\n",
                     "  vertical-align: middle;\n",
                     " }\n",
                     "\n",
                     " .dataframe tbody tr th {\n",
                     "  vertical-align: top;\n",
                     " }\n",
                     "\n",
                     " .dataframe thead th {\n",
                     "  text-align: right;\n",
                     " }\n",
                     "</style>\n",
                     "<table border=\"1\" class=\"dataframe\">\n",
                     "  <thead>\n",
                     " <tr style=\"text-align: right;\">\n",
                     "   <th></th>\n",
                     "   <th>name</th>\n",
                     "   <th>country_code</th>\n",
                     "   <th>gender</th>\n",
                     "   <th>maleness</th>\n",
                     " </tr>\n",
                     "  </thead>\n",
                     "  <tbody>\n",
                     " <tr>\n",
                     "   <th>9187</th>\n",
                     "   <td>ALEICIA</td>\n",
                     "   <td>CA</td>\n",
                     "   <td>F</td>\n",
                     "   <td>0.0</td>\n",
                     " </tr>\n",
                     " <tr>\n",
                     "   <th>251635</th>\n",
                     "   <td>TACHARA</td>\n",
                     "   <td>US</td>\n",
                     "   <td>F</td>\n",
                     "   <td>0.0</td>\n",
                     " </tr>\n",
                     " <tr>\n",
                     "   <th>273683</th>\n",
                     "   <td>VISINIA</td>\n",
                     "   <td>CA</td>\n",
                     "   <td>F</td>\n",
                     "   <td>0.0</td>\n",
                     " </tr>\n",
                     " <tr>\n",
                     "   <th>177034</th>\n",
                     "   <td>MAXEVAN</td>\n",
                     "   <td>CA</td>\n",
                     "   <td>M</td>\n",
                     "   <td>1.0</td>\n",
                     " </tr>\n",
                     " <tr>\n",
                     "   <th>186826</th>\n",
                     "   <td>MOSSAB</td>\n",
                     "   <td>CA</td>\n",
                     "   <td>M</td>\n",
                     "   <td>1.0</td>\n",
                     " </tr>\n",
                     " <tr>\n",
                     "   <th>177297</th>\n",
                     "   <td>MAYADA</td>\n",
                     "   <td>CA</td>\n",
                     "   <td>F</td>\n",
                     "   <td>0.0</td>\n",
                     " </tr>\n",
                     " <tr>\n",
                     "   <th>154445</th>\n",
                     "   <td>LAUN</td>\n",
                     "   <td>CA</td>\n",
                     "   <td>M</td>\n",
                     "   <td>1.0</td>\n",
                     " </tr>\n",
                     " <tr>\n",
                     "   <th>175885</th>\n",
                     "   <td>MASSIMILIANA</td>\n",
                     "   <td>IT</td>\n",
                     "   <td>F</td>\n",
                     "   <td>0.0</td>\n",
                     " </tr>\n",
                     " <tr>\n",
                     "   <th>141580</th>\n",
                     "   <td>KENNYTH</td>\n",
                     "   <td>US</td>\n",
                     "   <td>M</td>\n",
                     "   <td>1.0</td>\n",
                     " </tr>\n",
                     " <tr>\n",
                     "   <th>229603</th>\n",
                     "   <td>SANTI</td>\n",
                     "   <td>US</td>\n",
                     "   <td>M</td>\n",
                     "   <td>1.0</td>\n",
                     " </tr>\n",
                     "  </tbody>\n",
                     "</table>\n",
                     "</div>"
                  ],
                  "text/plain":[
                     "    name country_code gender  maleness\n",
                     "9187   ALEICIA     CA   F    0.0\n",
                     "251635    TACHARA     US   F    0.0\n",
                     "273683    VISINIA     CA   F    0.0\n",
                     "177034    MAXEVAN     CA   M    1.0\n",
                     "186826  MOSSAB     CA   M    1.0\n",
                     "177297  MAYADA     CA   F    0.0\n",
                     "154445    LAUN     CA   M    1.0\n",
                     "175885  MASSIMILIANA     IT   F    0.0\n",
                     "141580    KENNYTH     US   M    1.0\n",
                     "229603   SANTI     US   M    1.0"
                  ]
               },
               "metadata":{
                  
               },
               "output_type":"display_data"
            }
         ],
         "source":[
            "# CALCULATE A MALENESS SCORE LABEL FOR EACH <NAME, COUNTRY_CODE> \n",
            "# NOTE: # every col with prefix 'src_' is the gender from a particular source.\n",
            "# The column gender is the aggregate (most popular) gender from the various sources.\n",
            "\n",
            "from sklearn.utils import shuffle\n",
            "\n",
            "def label_maleness(row):\n",
            " male_w, female_w = 0.,0.\n",
            " for k,v in row.to_dict().items():\n",
            "  if k[:4] != \"src_\":\n",
            "   continue\n",
            "  if type(v) != str or v.strip() in ('', '?','=','U'):\n",
            "   continue\n",
            "  v = v.strip('?').strip('1')\n",
            "  if v == 'M': \n",
            "   male_w+=1.\n",
            "  elif v == 'F': \n",
            "   female_w+=1.\n",
            "  elif v == 'B':\n",
            "   male_w+=.5\n",
            "   female_w+=.5\n",
            "  else:\n",
            "   assert False, f\"Unknown gender source value '{v}' for {row}\"\n",
            " if male_w ==0. and female_w == 0.:\n",
            "  return None\n",
            " return male_w/(male_w+female_w)\n",
            "\n",
            "unused_columns = ['gchar12', 'gchar1', 'gchar2']\n",
            "names_df=names_df.drop(unused_columns, axis=1)\n",
            "\n",
            "names_df['maleness'] = names_df.apply(lambda row: label_maleness(row), axis=1)\n",
            "cols_to_keep = [c for c in names_df.columns if c[:4] != 'src_']\n",
            "names_df = names_df[cols_to_keep]\n",
            "\n",
            "names_df=names_df.rename(columns={\"code\": \"country_code\"})\n",
            "names_df = names_df.dropna()\n",
            "names_df = shuffle(names_df, random_state=0)\n",
            "\n",
            "print(f\"Number of <name, country_code> datapoints={len(names_df)}\")\n",
            "print()\n",
            "display(\"Random sample of data:\", names_df.head(10))"
         ]
      },
      {
         "cell_type":"code",
         "execution_count":101,
         "metadata":{
            
         },
         "outputs":[
            {
               "name":"stdout",
               "output_type":"stream",
               "text":[
                  "Number of Indian records: female = 636 and male = 2054\n"
               ]
            },
            {
               "name":"stderr",
               "output_type":"stream",
               "text":[
                  "/Library/Frameworks/Python.framework/Versions/3.7/lib/python3.7/site-packages/ipykernel_launcher.py:7: UserWarning: Boolean Series key will be reindexed to match DataFrame index.\n",
                  "  import sys\n"
               ]
            },
            {
               "name":"stdout",
               "output_type":"stream",
               "text":[
                  "Country CA num_males=32496 num_females=48966\n",
                  "Country US num_males=34326 num_females=58702\n",
                  "Country IT num_males=1440 num_females=1428\n",
                  "Country HU num_males=163 num_females=214\n",
                  "Country GB num_males=14669 num_females=18591\n",
                  "Country BG num_males=754 num_females=1042\n",
                  "Country JP num_males=1032 num_females=554\n",
                  "Country IE num_males=359 num_females=516\n",
                  "Country CH num_males=1029 num_females=1360\n",
                  "Country GR num_males=295 num_females=487\n",
                  "Country EE num_males=533 num_females=597\n",
                  "Country DE num_males=2085 num_females=2025\n",
                  "Country DK num_males=502 num_females=648\n",
                  "Country KR num_males=870 num_females=729\n",
                  "Country IR num_males=1220 num_females=811\n",
                  "Country BY num_males=252 num_females=259\n",
                  "Country KS num_males=456 num_females=545\n",
                  "Country IN num_males=2054 num_females=636\n",
                  "Country RU num_males=229 num_females=264\n",
                  "Country AL num_males=1019 num_females=738\n",
                  "Country FR num_males=663 num_females=1162\n",
                  "Country BA num_males=684 num_females=528\n",
                  "Country ES num_males=779 num_females=920\n",
                  "Country LU num_males=249 num_females=321\n",
                  "Country HR num_males=460 num_females=432\n",
                  "Country LT num_males=506 num_females=343\n",
                  "Country MK num_males=501 num_females=350\n",
                  "Country BE num_males=611 num_females=866\n",
                  "Country RO num_males=744 num_females=1228\n",
                  "Country IS num_males=647 num_females=637\n",
                  "Country IL num_males=570 num_females=524\n",
                  "Country FI num_males=409 num_females=474\n",
                  "Country PT num_males=501 num_females=533\n",
                  "Country TR num_males=973 num_females=790\n",
                  "Country AZ num_males=397 num_females=370\n",
                  "Country NO num_males=503 num_females=566\n",
                  "Country PL num_males=174 num_females=187\n",
                  "Country ME num_males=361 num_females=265\n",
                  "Country NL num_males=1345 num_females=1819\n",
                  "Country CN num_males=118 num_females=115\n",
                  "Country SK num_males=225 num_females=248\n",
                  "Country LV num_males=315 num_females=374\n",
                  "Country SE num_males=744 num_females=881\n",
                  "Country QA num_males=5 num_females=1\n",
                  "Country AT num_males=665 num_females=1081\n",
                  "Country NZ num_males=20 num_females=22\n",
                  "Country VN num_males=99 num_females=59\n",
                  "Country AE num_males=9 num_females=8\n",
                  "Country AM num_males=364 num_females=294\n",
                  "Country KZ num_males=405 num_females=468\n",
                  "Country UA num_males=266 num_females=269\n",
                  "Country RS num_males=380 num_females=348\n",
                  "Country TJ num_males=6 num_females=6\n",
                  "Country PK num_males=13 num_females=13\n",
                  "Country CZ num_males=191 num_females=286\n",
                  "Country SI num_males=344 num_females=293\n",
                  "Country MT num_males=331 num_females=233\n",
                  "Country GQ num_males=6 num_females=5\n",
                  "Country MW num_males=2 num_females=1\n",
                  "Country MD num_males=191 num_females=216\n",
                  "Country GE num_males=170 num_females=127\n",
                  "Country AR num_males=13 num_females=10\n",
                  "Country MY num_males=12 num_females=13\n",
                  "Country EG num_males=39 num_females=48\n",
                  "Country LK num_males=2 num_females=3\n",
                  "Country CU has only one class. num_males=0 num_females=5\n",
                  "Country KP has only one class. num_males=5 num_females=0\n",
                  "Country RW num_males=1 num_females=1\n",
                  "Country PE num_males=12 num_females=10\n",
                  "Country LC has only one class. num_males=0 num_females=1\n",
                  "Country AU num_males=31 num_females=22\n",
                  "Country HT num_males=10 num_females=13\n",
                  "Country DZ num_males=13 num_females=10\n",
                  "Country CR num_males=4 num_females=3\n",
                  "Country PA num_males=2 num_females=1\n",
                  "Country ZA num_males=15 num_females=16\n",
                  "Country LI num_males=25 num_females=13\n",
                  "Country NP num_males=12 num_females=11\n",
                  "Country SD num_males=2 num_females=3\n",
                  "Country IQ has only one class. num_males=10 num_females=0\n",
                  "Country TT has only one class. num_males=2 num_females=0\n",
                  "Country BF has only one class. num_males=0 num_females=1\n",
                  "Country PH num_males=14 num_females=13\n",
                  "Country LS num_males=3 num_females=2\n",
                  "Country NG num_males=5 num_females=3\n",
                  "Country TG num_males=3 num_females=1\n",
                  "Country BR num_males=16 num_females=13\n",
                  "Country TM has only one class. num_males=5 num_females=0\n",
                  "Country ZW num_males=4 num_females=2\n",
                  "Country PY num_males=11 num_females=11\n",
                  "Country VE num_males=10 num_females=11\n",
                  "Country JM num_males=8 num_females=7\n",
                  "Country MC num_males=7 num_females=6\n",
                  "Country MX num_males=15 num_females=15\n",
                  "Country SC has only one class. num_males=0 num_females=2\n",
                  "Country UY num_males=12 num_females=12\n",
                  "Country CG num_males=5 num_females=1\n",
                  "Country MZ num_males=3 num_females=3\n",
                  "Country CL num_males=9 num_females=12\n",
                  "Country CO num_males=14 num_females=12\n",
                  "Country SG num_males=3 num_females=4\n",
                  "Country ET num_males=2 num_females=1\n",
                  "Country GL num_males=10 num_females=10\n",
                  "Country MU num_males=2 num_females=1\n",
                  "Country MN num_males=6 num_females=7\n",
                  "Country AW num_males=5 num_females=5\n",
                  "Country ML num_males=11 num_females=12\n",
                  "Country BD has only one class. num_males=2 num_females=0\n",
                  "Country ID num_males=19 num_females=4\n",
                  "Country BJ has only one class. num_males=3 num_females=0\n",
                  "Country TN num_males=7 num_females=4\n",
                  "Country TW num_males=5 num_females=5\n",
                  "Country LY num_males=11 num_females=10\n",
                  "Country CI has only one class. num_males=9 num_females=0\n",
                  "Country GH num_males=4 num_females=2\n",
                  "Country BW num_males=2 num_females=2\n",
                  "Country BS has only one class. num_males=0 num_females=2\n",
                  "Country AD num_males=11 num_females=11\n",
                  "Country MA num_males=12 num_females=11\n",
                  "Country SA num_males=10 num_females=1\n",
                  "Country TH num_males=12 num_females=9\n",
                  "Country HN num_males=2 num_females=2\n",
                  "Country NE has only one class. num_males=1 num_females=0\n",
                  "Country JO num_males=4 num_females=5\n",
                  "Country FJ has only one class. num_males=2 num_females=0\n",
                  "Country BH has only one class. num_males=0 num_females=2\n",
                  "Country AG num_males=1 num_females=1\n",
                  "Country CF num_males=1 num_females=1\n",
                  "Country LR has only one class. num_males=2 num_females=0\n",
                  "Country TD num_males=2 num_females=1\n",
                  "Country VA has only one class. num_males=2 num_females=0\n",
                  "Country TZ num_males=4 num_females=1\n",
                  "Country MG num_males=3 num_females=3\n",
                  "Country OM num_males=7 num_females=2\n",
                  "Country ZM has only one class. num_males=3 num_females=0\n",
                  "Country BZ has only one class. num_males=0 num_females=1\n",
                  "Country SZ num_males=1 num_females=3\n",
                  "Country GN num_males=2 num_females=2\n",
                  "Country EC num_males=3 num_females=2\n",
                  "Country LA num_males=1 num_females=1\n",
                  "Country BB num_males=1 num_females=2\n",
                  "Country NI num_males=3 num_females=1\n",
                  "Country GM has only one class. num_males=2 num_females=0\n",
                  "Country KE num_males=8 num_females=1\n",
                  "Country MR has only one class. num_males=1 num_females=0\n",
                  "Country GA has only one class. num_males=1 num_females=0\n",
                  "Country UG num_males=6 num_females=2\n",
                  "Country BT has only one class. num_males=3 num_females=0\n",
                  "Country ST has only one class. num_males=2 num_females=0\n",
                  "Country CM num_males=4 num_females=2\n",
                  "Country SN has only one class. num_males=5 num_females=0\n",
                  "Country GT num_males=2 num_females=1\n",
                  "Country AF has only one class. num_males=3 num_females=0\n",
                  "Country GD has only one class. num_males=0 num_females=1\n",
                  "Country CY has only one class. num_males=0 num_females=2\n",
                  "Country GW has only one class. num_males=1 num_females=0\n",
                  "Country BO has only one class. num_males=1 num_females=0\n",
                  "Country SV num_males=2 num_females=3\n",
                  "Country AO num_males=3 num_females=2\n",
                  "Country BN has only one class. num_males=0 num_females=1\n",
                  "Country DJ num_males=3 num_females=1\n",
                  "Country KG has only one class. num_males=2 num_females=0\n",
                  "Country VC has only one class. num_males=0 num_females=1\n",
                  "Country SY has only one class. num_males=2 num_females=0\n",
                  "Country SM num_males=2 num_females=1\n",
                  "Country DO num_males=1 num_females=2\n",
                  "Country DM has only one class. num_males=0 num_females=1\n",
                  "Country SL num_males=1 num_females=1\n",
                  "Country LB num_males=1 num_females=1\n",
                  "Country KM has only one class. num_males=1 num_females=0\n",
                  "Country UZ has only one class. num_males=2 num_females=0\n",
                  "Country KH has only one class. num_males=1 num_females=0\n",
                  "Total num records decreased from 276117 to 222919\n"
               ]
            }
         ],
         "source":[
            "# BALANCE DATASET GENDER FOR EVERY COUNTRY_CODE BY UNDERSAMPLING THE MAJORITY CLASS\n",
            "\n",
            "from imblearn.under_sampling import RandomUnderSampler\n",
            "\n",
            "# Looking at India as an example of gender imbalance\n",
            "indian_names_df = names_df[names_df.country_code=='IN']\n",
            "print(f\"Number of Indian records: female = {len(indian_names_df[names_df.gender=='F'])} and male = {len(indian_names_df[names_df.gender=='M'])}\")\n",
            "   \n",
            "\n",
            "new_names_df = None\n",
            "for code in names_df.country_code.unique():\n",
            " country_df = names_df[names_df.country_code==code]\n",
            " num_males, num_females = len(country_df[country_df.gender=='M']), len(country_df[country_df.gender=='F'])\n",
            " maxval, minval = max(num_males, num_females), min(num_males, num_females)\n",
            " if minval > 0:\n",
            "  ros = RandomUnderSampler(random_state=0, sampling_strategy={'M':minval, 'F': minval})\n",
            "  country_df, _ = ros.fit_resample(country_df, country_df.gender)\n",
            "  print(f\"Country {code} num_males={num_males} num_females={num_females}\")\n",
            " else:\n",
            "  print(f\"Country {code} has only one class. num_males={num_males} num_females={num_females}\")\n",
            " if new_names_df is None:\n",
            "  new_names_df = country_df\n",
            " else:\n",
            "  new_names_df = new_names_df.append(country_df, ignore_index=True)\n",
            "print(f\"Total num records decreased from {len(names_df)} to {len(new_names_df)}\")\n",
            "names_df = new_names_df.drop('gender', axis=1) # we don't need col this anymore\n"
         ]
      },
      {
         "cell_type":"code",
         "execution_count":102,
         "metadata":{
            
         },
         "outputs":[
            {
               "name":"stdout",
               "output_type":"stream",
               "text":[
                  "Number of unique names=147528\n",
                  "\n"
               ]
            },
            {
               "data":{
                  "text/plain":[
                     "'Top unique names:'"
                  ]
               },
               "metadata":{
                  
               },
               "output_type":"display_data"
            },
            {
               "data":{
                  "text/plain":[
                     "MARIA  39\n",
                     "DANIEL    38\n",
                     "MARINA    37\n",
                     "NINA   37\n",
                     "DIANA  35\n",
                     "DAVID  35\n",
                     "VERA   34\n",
                     "SARA   34\n",
                     "OLGA   34\n",
                     "RITA   34\n",
                     "EVA    32\n",
                     "SOFIA  31\n",
                     "VALENTINA 31\n",
                     "ROBERT    31\n",
                     "IVAN   30\n",
                     "ANNA   30\n",
                     "MARTIN    30\n",
                     "VIKTOR    30\n",
                     "MARTA  28\n",
                     "BORIS  28\n",
                     "Name: name, dtype: int64"
                  ]
               },
               "metadata":{
                  
               },
               "output_type":"display_data"
            }
         ],
         "source":[
            "# NAMES DISTRIBUTION\n",
            "print(f\"Number of unique names={len(names_df.name.unique())}\")\n",
            "print()\n",
            "display(\"Top unique names:\", names_df.name.value_counts().head(20))"
         ]
      },
      {
         "cell_type":"code",
         "execution_count":103,
         "metadata":{
            
         },
         "outputs":[
            {
               "data":{
                  "text/plain":[
                     "'Percentile buckets of maleness score: '"
                  ]
               },
               "metadata":{
                  
               },
               "output_type":"display_data"
            },
            {
               "data":{
                  "text/plain":[
                     "count 222919.000000\n",
                     "mean    0.499982\n",
                     "std     0.492365\n",
                     "min     0.000000\n",
                     "25%     0.000000\n",
                     "50%     0.500000\n",
                     "75%     1.000000\n",
                     "max     1.000000\n",
                     "Name: maleness, dtype: float64"
                  ]
               },
               "metadata":{
                  
               },
               "output_type":"display_data"
            },
            {
               "data":{
                  "text/plain":[
                     "<AxesSubplot:>"
                  ]
               },
               "execution_count":103,
               "metadata":{
                  
               },
               "output_type":"execute_result"
            },
            {
               "data":{
                  "image/png":"[encoded data removed]",
                  "text/plain":[
                     "<Figure size 432x288 with 1 Axes>"
                  ]
               },
               "metadata":{
                  "needs_background":"light"
               },
               "output_type":"display_data"
            }
         ],
         "source":[
            "# MALENESS DISTRIBUTION\n",
            "\n",
            "display(\"Percentile buckets of maleness score: \", names_df.maleness.describe())\n",
            "names_df.maleness.hist()"
         ]
      },
      {
         "cell_type":"code",
         "execution_count":104,
         "metadata":{
            
         },
         "outputs":[
            {
               "name":"stdout",
               "output_type":"stream",
               "text":[
                  "Number of unique country_codes=172\n"
               ]
            },
            {
               "data":{
                  "text/plain":[
                     "CA 71058\n",
                     "US 69007\n",
                     "GB 29386\n",
                     "DE  4063\n",
                     "IT  2856\n",
                     "NL  2692\n",
                     "CH  2062\n",
                     "IR  1622\n",
                     "TR  1582\n",
                     "ES  1558\n",
                     "BG  1508\n",
                     "SE  1500\n",
                     "RO  1488\n",
                     "AL  1476\n",
                     "KR  1458\n",
                     "AT  1330\n",
                     "FR  1327\n",
                     "IN  1279\n",
                     "IS  1275\n",
                     "BE  1223\n",
                     "Name: country_code, dtype: int64"
                  ]
               },
               "metadata":{
                  
               },
               "output_type":"display_data"
            }
         ],
         "source":[
            "# COUNTRY CODES DISTRIBUTION\n",
            "country_codes_unique = names_df.country_code.unique()\n",
            "print(f\"Number of unique country_codes={len(country_codes_unique)}\")\n",
            "display(names_df.country_code.value_counts().head(20))"
         ]
      },
      {
         "cell_type":"code",
         "execution_count":105,
         "metadata":{
            
         },
         "outputs":[
            {
               "data":{
                  "text/plain":[
                     "'Maleness score = 1.0'"
                  ]
               },
               "metadata":{
                  
               },
               "output_type":"display_data"
            },
            {
               "data":{
                  "text/plain":[
                     "DANIEL   35\n",
                     "DAVID    33\n",
                     "VIKTOR   30\n",
                     "IVAN  30\n",
                     "ROBERT   29\n",
                     "MARTIN   29\n",
                     "BORIS    28\n",
                     "EMIL  27\n",
                     "DENIS    27\n",
                     "VALENTIN 26\n",
                     "Name: name, dtype: int64"
                  ]
               },
               "metadata":{
                  
               },
               "output_type":"display_data"
            },
            {
               "name":"stdout",
               "output_type":"stream",
               "text":[
                  "\n"
               ]
            },
            {
               "data":{
                  "text/plain":[
                     "'Maleness score = 0.75'"
                  ]
               },
               "metadata":{
                  
               },
               "output_type":"display_data"
            },
            {
               "data":{
                  "text/plain":[
                     "CRUZ    1\n",
                     "FRANKIE 1\n",
                     "HOLLIS  1\n",
                     "THANH   1\n",
                     "ARIEL   1\n",
                     "SHAYNE  1\n",
                     "MASON   1\n",
                     "HUNTER  1\n",
                     "TOBY    1\n",
                     "YOUNG   1\n",
                     "Name: name, dtype: int64"
                  ]
               },
               "metadata":{
                  
               },
               "output_type":"display_data"
            },
            {
               "name":"stdout",
               "output_type":"stream",
               "text":[
                  "\n"
               ]
            },
            {
               "data":{
                  "text/plain":[
                     "'Maleness score = 0.5'"
                  ]
               },
               "metadata":{
                  
               },
               "output_type":"display_data"
            },
            {
               "data":{
                  "text/plain":[
                     "SASA   3\n",
                     "CLAIR  3\n",
                     "HARPER    3\n",
                     "LOU    3\n",
                     "CASEY  3\n",
                     "AMIT   2\n",
                     "BLAYNE    2\n",
                     "DAREL  2\n",
                     "JESSY  2\n",
                     "DOMINIQUE 2\n",
                     "Name: name, dtype: int64"
                  ]
               },
               "metadata":{
                  
               },
               "output_type":"display_data"
            },
            {
               "name":"stdout",
               "output_type":"stream",
               "text":[
                  "\n"
               ]
            },
            {
               "data":{
                  "text/plain":[
                     "'Maleness score = 0.25'"
                  ]
               },
               "metadata":{
                  
               },
               "output_type":"display_data"
            },
            {
               "data":{
                  "text/plain":[
                     "LEA  1\n",
                     "CARROL  1\n",
                     "RUI  1\n",
                     "AVA  1\n",
                     "KANAME  1\n",
                     "TATSUMI 1\n",
                     "MAYA    1\n",
                     "KEI  1\n",
                     "HIKARU  1\n",
                     "REI  1\n",
                     "Name: name, dtype: int64"
                  ]
               },
               "metadata":{
                  
               },
               "output_type":"display_data"
            },
            {
               "name":"stdout",
               "output_type":"stream",
               "text":[
                  "\n"
               ]
            },
            {
               "data":{
                  "text/plain":[
                     "'Maleness score = 0.0'"
                  ]
               },
               "metadata":{
                  
               },
               "output_type":"display_data"
            },
            {
               "data":{
                  "text/plain":[
                     "MARIA  38\n",
                     "MARINA 37\n",
                     "NINA   37\n",
                     "DIANA  35\n",
                     "VERA   34\n",
                     "OLGA   34\n",
                     "RITA   34\n",
                     "SARA   33\n",
                     "EVA    32\n",
                     "SOFIA  31\n",
                     "Name: name, dtype: int64"
                  ]
               },
               "metadata":{
                  
               },
               "output_type":"display_data"
            },
            {
               "name":"stdout",
               "output_type":"stream",
               "text":[
                  "\n"
               ]
            }
         ],
         "source":[
            "# TOP NAMES IN ORDER OF DECREASING MALENESS SCORE\n",
            "for score in (1.,.75,.5,.25,0.):\n",
            " display(f\"Maleness score = {score}\", names_df[names_df.maleness==score].name.value_counts().head(10))\n",
            " print()"
         ]
      },
      {
         "cell_type":"code",
         "execution_count":106,
         "metadata":{
            
         },
         "outputs":[
            {
               "data":{
                  "text/plain":[
                     "'Number of records after filtering holdout names=222888'"
                  ]
               },
               "metadata":{
                  
               },
               "output_type":"display_data"
            }
         ],
         "source":[
            "# REMOVE HANDPICKED NAMES HELDOUT FOR TESTING\n",
            "\n",
            "import re\n",
            "\n",
            "heldout_names = \"Seshadri Sesh Sesha Jabba Daenerys Targaryn Khal Drogo Rhaegal Viserion Frodo Baggins Legolas Gollum Sauron Gandalf Bilbo Baggins Gal Gadot Dobby Yoda Chewbacca Arya Katniss Lisbeth Brienne Bellatrix Cersei\"\n",
            "heldout_name_tokens = set([t.lower() for t in heldout_names.split()])\n",
            "\n",
            "def is_valid_for_training(name: str):\n",
            " return len(set(name.split()).intersection(heldout_name_tokens))==0\n",
            "\n",
            "\n",
            "names_df.name = names_df.name.str.lower()\n",
            "names_df = names_df[names_df.name.map(is_valid_for_training)]\n",
            "display(f\"Number of records after filtering holdout names={len(names_df)}\")"
         ]
      },
      {
         "cell_type":"code",
         "execution_count":107,
         "metadata":{
            
         },
         "outputs":[
            {
               "data":{
                  "text/plain":[
                     "'Name token counts:'"
                  ]
               },
               "metadata":{
                  
               },
               "output_type":"display_data"
            },
            {
               "data":{
                  "text/plain":[
                     "\"OrderedDict([('a', 233496), ('s', 68731), ('t', 54442), ('i', 126694), ('n', 126911), ('r', 98752), ('d', 47233), ('y', 46723), ('u', 34917), ('c', 28882), ('e', 153417), ('k', 34680), ('m', 49175), ('g', 19286), ('l', 89047), ('o', 65547), ('b', 21472), ('h', 58482), ('w', 8395), ('p', 10217), ('f', 10661), ('j', 25284), (' ', 12347), ('v', 18453), ('x', 2933), ('z', 13032), ('q', 2975), ('英', 11), ('子', 6), ('아', 3), ('인', 2), ('경', 12), ('영', 21), ('숙', 9), ('소', 1), ('라', 2), ('혜', 4), ('진', 8), ('자', 11), ('瑞', 6), ('潤', 1), ('수', 13), ('연', 3), ('淑', 9), ('보', 2), ('미', 7), ('희', 4), ('枝', 2), ('恩', 11), ('고', 1), ('은', 15), ('嬉', 1), ('예', 3), ('유', 3), ('리', 2), ('昰', 1), ('昀', 1), ('지', 16), ('민', 12), ('智', 5), ('慧', 5), ('주', 3), ('원', 5), ('정', 13), ('惠', 3), ('珍', 5), ('란', 1), ('明', 2), ('다', 1), ('敬', 2), ('선', 1), ('美', 5), ('景', 1), ('화', 1), ('해', 1), ('서', 8), ('현', 11), ('敏', 4), ('序', 1), ('비', 3), ('京', 2), ('采', 1), ('原', 1), ('별', 3), ('銀', 2), ('순', 4), ('옥', 2), ('채', 2), ('춘', 2), ('윤', 7), ('貞', 1), ('하', 4), ('廷', 1), ('慶', 1), ('장', 1), ('가', 1), ('우', 7), ('나', 4), ('姢', 1), ('슬', 2), ('기', 3), ('애', 1), ('民', 3), ('徐', 1), ('명', 2), ('람', 1), ('姸', 1), ('正', 4), ('차', 1), ('地', 1), ('이', 2), ('泳', 3), ('姬', 3), ('知', 2), ('름', 1), ('빈', 1), ('慇', 1), ('婷', 3), ('賢', 2), ('志', 5), ('림', 1), ('빛', 1), ('裕', 1), ('여', 1), ('浩', 6), ('乾', 1), ('후', 1), ('무', 1), ('永', 4), ('壽', 1), ('煥', 3), ('식', 2), ('大', 1), ('中', 2), ('喆', 1), ('승', 2), ('호', 8), ('도', 2), ('재', 2), ('섭', 1), ('宗', 2), ('根', 2), ('철', 5), ('건', 3), ('日', 1), ('成', 7), ('勛', 5), ('성', 7), ('炳', 2), ('昊', 3), ('澈', 2), ('件', 1), ('상', 1), ('俊', 9), ('남', 1), ('鎬', 2), ('夏', 1), ('准', 1), ('중', 1), ('虎', 1), ('榮', 1), ('起', 1), ('병', 2), ('徹', 1), ('준', 8), ('秀', 11), ('웅', 1), ('映', 1), ('皓', 2), ('동', 2), ('훈', 4), ('健', 2), ('광', 3), ('오', 1), ('星', 1), ('鎭', 2), ('종', 2), ('열', 1), ('承', 1), ('佑', 2), ('顯', 1), ('雨', 2), ('舒', 2), ('요', 1), ('한', 1), ('완', 1), ('宇', 2), ('眞', 1), ('藝', 1), ('錫', 1), ('震', 1), ('盛', 1), ('晧', 1), ('建', 8), ('好', 1), ('구', 1), ('聖', 1), ('洙', 1), ('혁', 2), ('石', 1), ('혼', 1), ('赫', 1), ('尚', 1), ('규', 1), ('奕', 1), ('치', 1), ('祐', 2), ('勳', 2), ('始', 2), ('道', 1), ('允', 1), ('조', 1), ('垊', 1), ('길', 1), ('모', 1), ('訓', 1), ('崇', 1), ('哲', 1), ('鐵', 1), ('덕', 1), ('芳', 1), ('艳', 2), ('春', 4), ('霞', 5), ('花', 3), ('梦', 1), ('玲', 3), ('丽', 4), ('莉', 1), ('秋', 1), ('玉', 6), ('彩', 2), ('莹', 1), ('荣', 5), ('香', 1), ('梅', 4), ('喜', 1), ('洁', 1), ('琳', 1), ('琴', 2), ('颖', 1), ('芬', 1), ('桂', 5), ('娥', 1), ('云', 3), ('妮', 1), ('菊', 1), ('燕', 1), ('静', 1), ('爱', 2), ('素', 1), ('翠', 1), ('红', 5), ('蕾', 1), ('芝', 2), ('兰', 5), ('瑾', 1), ('萍', 1), ('雪', 1), ('凤', 2), ('娜', 2), ('娟', 2), ('莲', 1), ('楠', 1), ('冰', 1), ('锋', 1), ('峰', 2), ('国', 4), ('凯', 1), ('超', 1), ('华', 1), ('长', 1), ('朝', 1), ('阳', 3), ('德', 1), ('军', 4), ('伟', 4), ('新', 2), ('林', 1), ('庆', 1), ('安', 2), ('波', 1), ('剑', 1), ('学', 1), ('飞', 3), ('炜', 1), ('辉', 2), ('晖', 1), ('生', 2), ('向', 1), ('涛', 2), ('天', 1), ('威', 1), ('世', 1), ('强', 3), ('义', 1), ('磊', 1), ('海', 2), ('鹏', 2), ('翔', 1), ('晓', 1), ('东', 3), ('栋', 1), ('勇', 1), ('斌', 1), ('光', 1), ('龙', 2), ('振', 2), ('豪', 2), ('家', 1), ('毅', 1), ('祥', 1), ('良', 1), ('杰', 2), ('文', 1), ('刚', 2), ('广', 1), ('胜', 1), ('利', 1), ('亮', 1), ('保', 1), ('山', 1), ('卫', 1), ('钢', 1), (',', 1)])\""
                  ]
               },
               "metadata":{
                  
               },
               "output_type":"display_data"
            }
         ],
         "source":[
            "# NAME TOKENIZATION AND CHARACTER VOCABULARY\n",
            "# NOTE: Non [a-z] characters are very rare.\n",
            "\n",
            "from tensorflow.keras.preprocessing.text import Tokenizer\n",
            "from sklearn.preprocessing import OneHotEncoder\n",
            "\n",
            "max_name_length = max(map(len, names_df.name))\n",
            "name_tokenizer = Tokenizer(num_words=None, char_level=True, oov_token='OOV')\n",
            "name_tokenizer.fit_on_texts(names_df.name)\n",
            "num_name_token_classes = len(name_tokenizer.word_index)+1\n",
            "display(\"Name token counts:\", str(name_tokenizer.word_counts))"
         ]
      },
      {
         "cell_type":"code",
         "execution_count":108,
         "metadata":{
            
         },
         "outputs":[
            {
               "data":{
                  "text/plain":[
                     "OneHotEncoder()"
                  ]
               },
               "execution_count":108,
               "metadata":{
                  
               },
               "output_type":"execute_result"
            }
         ],
         "source":[
            "# COUNTRY_CODE ENCODING\n",
            "\n",
            "country_code_encoder = OneHotEncoder()\n",
            "country_code_encoder.fit(names_df.country_code.to_numpy().reshape(-1, 1))"
         ]
      },
      {
         "cell_type":"code",
         "execution_count":109,
         "metadata":{
            
         },
         "outputs":[
            {
               "data":{
                  "text/plain":[
                     "'names_mat: '"
                  ]
               },
               "metadata":{
                  
               },
               "output_type":"display_data"
            },
            {
               "data":{
                  "text/plain":[
                     "numpy.ndarray"
                  ]
               },
               "metadata":{
                  
               },
               "output_type":"display_data"
            },
            {
               "data":{
                  "text/plain":[
                     "(222888, 30, 327)"
                  ]
               },
               "metadata":{
                  
               },
               "output_type":"display_data"
            },
            {
               "name":"stdout",
               "output_type":"stream",
               "text":[
                  "\n"
               ]
            },
            {
               "data":{
                  "text/plain":[
                     "'country_codes_mat:'"
                  ]
               },
               "metadata":{
                  
               },
               "output_type":"display_data"
            },
            {
               "data":{
                  "text/plain":[
                     "numpy.matrix"
                  ]
               },
               "metadata":{
                  
               },
               "output_type":"display_data"
            },
            {
               "data":{
                  "text/plain":[
                     "(222888, 172)"
                  ]
               },
               "metadata":{
                  
               },
               "output_type":"display_data"
            },
            {
               "name":"stdout",
               "output_type":"stream",
               "text":[
                  "\n"
               ]
            },
            {
               "data":{
                  "text/plain":[
                     "'y_mat:'"
                  ]
               },
               "metadata":{
                  
               },
               "output_type":"display_data"
            },
            {
               "data":{
                  "text/plain":[
                     "numpy.ndarray"
                  ]
               },
               "metadata":{
                  
               },
               "output_type":"display_data"
            },
            {
               "data":{
                  "text/plain":[
                     "(222888,)"
                  ]
               },
               "metadata":{
                  
               },
               "output_type":"display_data"
            }
         ],
         "source":[
            "# INPUT, OUTPUT MATRICES FOR TRAINING\n",
            "\n",
            "from tensorflow.keras.preprocessing.sequence import pad_sequences\n",
            "from tensorflow.keras.utils import to_categorical\n",
            "import pandas\n",
            "\n",
            "def get_names_matrix(names: pandas.Series):\n",
            " # padded, categogical character sequences\n",
            " return to_categorical(\n",
            "  pad_sequences(name_tokenizer.texts_to_sequences(names), \n",
            "       maxlen=max_name_length, \n",
            "       padding='post', \n",
            "       truncating='post'), \n",
            "  num_classes= num_name_token_classes)\n",
            "\n",
            "def get_country_codes_matrix(codes: pandas.Series):\n",
            " return country_code_encoder.transform(codes.to_numpy().reshape(-1, 1)).todense()\n",
            "\n",
            "names_mat = get_names_matrix(names_df.name)\n",
            "country_codes_mat = get_country_codes_matrix(names_df.country_code)\n",
            "y_mat = names_df.maleness.to_numpy()\n",
            "\n",
            "# Sanity check shapes and types\n",
            "display(\"names_mat: \", type(names_mat), names_mat.shape)\n",
            "print()\n",
            "display(\"country_codes_mat:\", type(country_codes_mat), country_codes_mat.shape)\n",
            "print()\n",
            "display(\"y_mat:\", type(y_mat), y_mat.shape)"
         ]
      },
      {
         "cell_type":"code",
         "execution_count":110,
         "metadata":{
            
         },
         "outputs":[
            {
               "name":"stdout",
               "output_type":"stream",
               "text":[
                  "Model: \"nameste_gender_clfr\"\n",
                  "__________________________________________________________________________________________________\n",
                  "Layer (type)     Output Shape   Param #  Connected to      \n",
                  "==================================================================================================\n",
                  "input_name_char_seq (InputLayer [(None, 30, 327)] 0           \n",
                  "__________________________________________________________________________________________________\n",
                  "lstm_1 (LSTM)       (None, 16)     22016    input_name_char_seq[0][0]  \n",
                  "__________________________________________________________________________________________________\n",
                  "input_country_code_ohe (InputLa [(None, 172)]  0           \n",
                  "__________________________________________________________________________________________________\n",
                  "name_and_country_emb (Concatena (None, 188)    0     lstm_1[0][0]      \n",
                  "                 input_country_code_ohe[0][0]  \n",
                  "__________________________________________________________________________________________________\n",
                  "dense_1 (Dense)     (None, 8)   1512  name_and_country_emb[0][0]    \n",
                  "__________________________________________________________________________________________________\n",
                  "maleness (Dense)    (None, 1)   9     dense_1[0][0]     \n",
                  "==================================================================================================\n",
                  "Total params: 23,537\n",
                  "Trainable params: 23,537\n",
                  "Non-trainable params: 0\n",
                  "__________________________________________________________________________________________________\n"
               ]
            }
         ],
         "source":[
            "# DEFINE THE NETWORK AND MODEL\n",
            "\n",
            "from tensorflow.keras import Model\n",
            "from tensorflow.keras.layers import Input, LSTM, Concatenate, Dense\n",
            "\n",
            "inputs = [Input(shape=(max_name_length,num_name_token_classes), name=\"input_name_char_seq\"), \n",
            "    Input(shape=(len(country_codes_unique),), name=\"input_country_code_ohe\")]\n",
            "lstm = LSTM(16, activation='relu', return_sequences=False)\n",
            "name_embedding = lstm(inputs[0])\n",
            "x = Concatenate(name=\"name_and_country_emb\")([name_embedding, inputs[1]])\n",
            "x = Dense(8,activation='relu')(x)\n",
            "output = Dense(1, activation='sigmoid', name='maleness')(x)\n",
            "\n",
            "model = Model(inputs=inputs, outputs=[output], name=\"nameste_gender_clfr\")\n",
            "model.compile(optimizer=\"Adam\", loss=\"mse\", metrics=[\"mse\", \"mae\"])\n",
            "model.summary()"
         ]
      },
      {
         "cell_type":"code",
         "execution_count":111,
         "metadata":{
            
         },
         "outputs":[
            {
               "name":"stdout",
               "output_type":"stream",
               "text":[
                  "Epoch 1/6\n",
                  "5573/5573 [==============================] - 63s 11ms/step - loss: 0.1411 - mse: 0.1411 - mae: 0.2891 - val_loss: 0.1342 - val_mse: 0.1342 - val_mae: 0.2524\n",
                  "Epoch 2/6\n",
                  "5573/5573 [==============================] - 55s 10ms/step - loss: 0.1223 - mse: 0.1223 - mae: 0.2535 - val_loss: 0.1340 - val_mse: 0.1340 - val_mae: 0.2751\n",
                  "Epoch 3/6\n",
                  "5573/5573 [==============================] - 55s 10ms/step - loss: 0.1192 - mse: 0.1192 - mae: 0.2475 - val_loss: 0.1359 - val_mse: 0.1359 - val_mae: 0.2703\n",
                  "Epoch 4/6\n",
                  "5573/5573 [==============================] - 54s 10ms/step - loss: 0.1165 - mse: 0.1165 - mae: 0.2419 - val_loss: 0.1367 - val_mse: 0.1367 - val_mae: 0.2552\n"
               ]
            }
         ],
         "source":[
            "# TRAIN WITH EARLY STOPPING\n",
            "\n",
            "from tensorflow.keras.callbacks import EarlyStopping\n",
            "\n",
            "callback = EarlyStopping(monitor='val_mse', patience=2, restore_best_weights=True)\n",
            "history = model.fit([names_mat, country_codes_mat], y_mat, \n",
            "     epochs=6, \n",
            "     batch_size=32, \n",
            "     validation_split=0.2, \n",
            "     callbacks=[callback])"
         ]
      },
      {
         "cell_type":"code",
         "execution_count":119,
         "metadata":{
            
         },
         "outputs":[
            {
               "data":{
                  "text/plain":[
                     "'Name=sesh'"
                  ]
               },
               "metadata":{
                  
               },
               "output_type":"display_data"
            },
            {
               "data":{
                  "text/plain":[
                     "\"Maleness=[('KZ', array([0.6223209], dtype=float32)), ('RU', array([0.6192301], dtype=float32)), ('US', array([0.6860885], dtype=float32)), ('CA', array([0.642344], dtype=float32)), ('IN', array([0.58811444], dtype=float32)), ('CH', array([0.6553823], dtype=float32)), ('KR', array([0.62927777], dtype=float32)), ('KE', array([0.6271552], dtype=float32))]\""
                  ]
               },
               "metadata":{
                  
               },
               "output_type":"display_data"
            },
            {
               "name":"stdout",
               "output_type":"stream",
               "text":[
                  "\n"
               ]
            },
            {
               "data":{
                  "text/plain":[
                     "'Name=seshadri'"
                  ]
               },
               "metadata":{
                  
               },
               "output_type":"display_data"
            },
            {
               "data":{
                  "text/plain":[
                     "\"Maleness=[('KZ', array([0.17439398], dtype=float32)), ('RU', array([0.14547816], dtype=float32)), ('US', array([0.12980515], dtype=float32)), ('CA', array([0.19008008], dtype=float32)), ('IN', array([0.16831037], dtype=float32)), ('CH', array([0.12551397], dtype=float32)), ('KR', array([0.15786704], dtype=float32)), ('KE', array([0.1588803], dtype=float32))]\""
                  ]
               },
               "metadata":{
                  
               },
               "output_type":"display_data"
            },
            {
               "name":"stdout",
               "output_type":"stream",
               "text":[
                  "\n"
               ]
            },
            {
               "data":{
                  "text/plain":[
                     "'Name=dobby'"
                  ]
               },
               "metadata":{
                  
               },
               "output_type":"display_data"
            },
            {
               "data":{
                  "text/plain":[
                     "\"Maleness=[('KZ', array([0.72563064], dtype=float32)), ('RU', array([0.7323735], dtype=float32)), ('US', array([0.81232023], dtype=float32)), ('CA', array([0.74057984], dtype=float32)), ('IN', array([0.70973265], dtype=float32)), ('CH', array([0.79164445], dtype=float32)), ('KR', array([0.74623865], dtype=float32)), ('KE', array([0.7487675], dtype=float32))]\""
                  ]
               },
               "metadata":{
                  
               },
               "output_type":"display_data"
            },
            {
               "name":"stdout",
               "output_type":"stream",
               "text":[
                  "\n"
               ]
            },
            {
               "data":{
                  "text/plain":[
                     "'Name=daenerys'"
                  ]
               },
               "metadata":{
                  
               },
               "output_type":"display_data"
            },
            {
               "data":{
                  "text/plain":[
                     "\"Maleness=[('KZ', array([0.29638362], dtype=float32)), ('RU', array([0.25345027], dtype=float32)), ('US', array([0.22926596], dtype=float32)), ('CA', array([0.31880528], dtype=float32)), ('IN', array([0.28752643], dtype=float32)), ('CH', array([0.2225276], dtype=float32)), ('KR', array([0.272106], dtype=float32)), ('KE', array([0.27361423], dtype=float32))]\""
                  ]
               },
               "metadata":{
                  
               },
               "output_type":"display_data"
            },
            {
               "name":"stdout",
               "output_type":"stream",
               "text":[
                  "\n"
               ]
            },
            {
               "data":{
                  "text/plain":[
                     "'Name=cersei'"
                  ]
               },
               "metadata":{
                  
               },
               "output_type":"display_data"
            },
            {
               "data":{
                  "text/plain":[
                     "\"Maleness=[('KZ', array([0.23513359], dtype=float32)), ('RU', array([0.19856885], dtype=float32)), ('US', array([0.17837015], dtype=float32)), ('CA', array([0.25459826], dtype=float32)), ('IN', array([0.22751498], dtype=float32)), ('CH', array([0.17279229], dtype=float32)), ('KR', array([0.2143448], dtype=float32)), ('KE', array([0.21562767], dtype=float32))]\""
                  ]
               },
               "metadata":{
                  
               },
               "output_type":"display_data"
            },
            {
               "name":"stdout",
               "output_type":"stream",
               "text":[
                  "\n"
               ]
            },
            {
               "data":{
                  "text/plain":[
                     "'Name=nikita'"
                  ]
               },
               "metadata":{
                  
               },
               "output_type":"display_data"
            },
            {
               "data":{
                  "text/plain":[
                     "\"Maleness=[('KZ', array([0.07698518], dtype=float32)), ('RU', array([0.06298822], dtype=float32)), ('US', array([0.05562377], dtype=float32)), ('CA', array([0.08480972], dtype=float32)), ('IN', array([0.07399499], dtype=float32)), ('CH', array([0.05363375], dtype=float32)), ('KR', array([0.06891885], dtype=float32)), ('KE', array([0.06940821], dtype=float32))]\""
                  ]
               },
               "metadata":{
                  
               },
               "output_type":"display_data"
            },
            {
               "name":"stdout",
               "output_type":"stream",
               "text":[
                  "\n"
               ]
            },
            {
               "data":{
                  "text/plain":[
                     "'Name=albus'"
                  ]
               },
               "metadata":{
                  
               },
               "output_type":"display_data"
            },
            {
               "data":{
                  "text/plain":[
                     "\"Maleness=[('KZ', array([0.7827188], dtype=float32)), ('RU', array([0.7881861], dtype=float32)), ('US', array([0.85965693], dtype=float32)), ('CA', array([0.78505886], dtype=float32)), ('IN', array([0.76849324], dtype=float32)), ('CH', array([0.8439081], dtype=float32)), ('KR', array([0.80208653], dtype=float32)), ('KE', array([0.8035681], dtype=float32))]\""
                  ]
               },
               "metadata":{
                  
               },
               "output_type":"display_data"
            },
            {
               "name":"stdout",
               "output_type":"stream",
               "text":[
                  "\n"
               ]
            }
         ],
         "source":[
            "# TEST THE MODEL\n",
            "\n",
            "def predict(name, country_codes):\n",
            " name = name.lower()\n",
            " return model.predict([get_names_matrix(pd.Series([name]*len(country_codes))), \n",
            "        get_country_codes_matrix(pd.Series(country_codes))])\n",
            "\n",
            "country_codes_to_test = ['KZ', 'RU', 'US','CA','IN','CH', 'KR', 'KE']\n",
            "for name in ('sesh', 'seshadri', 'dobby', 'daenerys', 'cersei', 'nikita', 'albus'):\n",
            " res = predict(name, country_codes_to_test)\n",
            " display(f\"Name={name}\", f\"Maleness={list(zip(country_codes_to_test, res))}\")\n",
            " print()"
         ]
      },
      {
         "cell_type":"code",
         "execution_count":117,
         "metadata":{
            
         },
         "outputs":[
            {
               "name":"stdout",
               "output_type":"stream",
               "text":[
                  "INFO:tensorflow:Assets written to: nameste_gender_clfr.model/assets\n"
               ]
            },
            {
               "data":{
                  "text/plain":[
                     "['nameste_gender_clfr.artifacts']"
                  ]
               },
               "execution_count":117,
               "metadata":{
                  
               },
               "output_type":"execute_result"
            }
         ],
         "source":[
            "# PERSIST MODEL, OTHER ARTIFACTS\n",
            "import joblib\n",
            "\n",
            "model.save('nameste_gender_clfr.model')\n",
            "artifacts = {'name_tokenizer': name_tokenizer, 'country_code_encoder': country_code_encoder, 'max_name_length': max_name_length, 'num_name_token_classes': num_name_token_classes}\n",
            "joblib.dump(artifacts, 'nameste_gender_clfr.artifacts')"
         ]
      },
      {
         "cell_type":"code",
         "execution_count":null,
         "metadata":{
            
         },
         "outputs":[
            
         ],
         "source":[
            
         ]
      },
      {
         "cell_type":"code",
         "execution_count":null,
         "metadata":{
            
         },
         "outputs":[
            
         ],
         "source":[
            
         ]
      }
   ],
   "metadata":{
      "kernelspec":{
         "display_name":"Python 3",
         "language":"python",
         "name":"python3"
      },
      "language_info":{
         "codemirror_mode":{
            "name":"ipython",
            "version":3
         },
         "file_extension":".py",
         "mimetype":"text/x-python",
         "name":"python",
         "nbconvert_exporter":"python",
         "pygments_lexer":"ipython3",
         "version":"3.7.2"
      }
   },
   "nbformat":4,
   "nbformat_minor":2
}